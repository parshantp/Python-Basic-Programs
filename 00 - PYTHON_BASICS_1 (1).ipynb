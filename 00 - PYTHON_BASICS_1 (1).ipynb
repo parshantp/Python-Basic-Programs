{
 "cells": [
  {
   "cell_type": "code",
   "execution_count": 1,
   "id": "13987cc0-9d5b-45e4-869d-8c4d64b5d3b6",
   "metadata": {},
   "outputs": [
    {
     "name": "stdout",
     "output_type": "stream",
     "text": [
      "hello world\n"
     ]
    }
   ],
   "source": [
    "print(\"hello world\")"
   ]
  },
  {
   "cell_type": "markdown",
   "id": "54135640-714b-436b-9923-4b32eaa811a7",
   "metadata": {},
   "source": [
    "# Variable = \n",
    "            It is used to store values\n",
    "            Variable is a container where we can store values\n",
    "            Variable is the sort name of any values\n",
    "\n",
    "\n",
    "\n",
    "# Types of Variable \n",
    "### There are two types of variable\n",
    "\n",
    "### 1. Local variable (or) Single variable\n",
    "x = 10\n",
    "y = 20\n",
    "\n",
    "### 2. Global variable or multiple variable\n",
    "### x,y,z = 10,20,30\n",
    "\n",
    "# Limitation of variable:-\n",
    "'''\n",
    "1. It always starts with the alphabet.\n",
    "2. Do not start with the number.\n",
    "3. You can't enter any special character in the variable.\n",
    "4. Variable can be alphanumerical.\n",
    "5. In variable we can use underscore ( _ ).\n",
    "6. Variable is case-sensitive.\n",
    "'''"
   ]
  },
  {
   "cell_type": "code",
   "execution_count": 2,
   "id": "090834ad-f36d-4ce0-91f7-f342325e5d7c",
   "metadata": {},
   "outputs": [],
   "source": [
    "x = 1000\n",
    "y = 500\n",
    "z = x+y"
   ]
  },
  {
   "cell_type": "code",
   "execution_count": 3,
   "id": "ed533694-1557-4bb0-a24c-906d393569b5",
   "metadata": {},
   "outputs": [
    {
     "name": "stdout",
     "output_type": "stream",
     "text": [
      "1500\n"
     ]
    }
   ],
   "source": [
    "print(z)     "
   ]
  },
  {
   "cell_type": "code",
   "execution_count": 4,
   "id": "aa0f2398-245a-44d9-8e85-ab9bdcbce46f",
   "metadata": {},
   "outputs": [],
   "source": [
    "x = \"data Science\""
   ]
  },
  {
   "cell_type": "code",
   "execution_count": 5,
   "id": "2cd46be4-ef58-4fee-876d-a07e517421e9",
   "metadata": {},
   "outputs": [
    {
     "name": "stdout",
     "output_type": "stream",
     "text": [
      "data Science\n"
     ]
    }
   ],
   "source": [
    "print(x)"
   ]
  },
  {
   "cell_type": "code",
   "execution_count": 6,
   "id": "c18c3ca3-3118-4a73-b1d6-8ec1b266e930",
   "metadata": {},
   "outputs": [
    {
     "name": "stdout",
     "output_type": "stream",
     "text": [
      "Addition =  30\n"
     ]
    }
   ],
   "source": [
    "x = 10\n",
    "y = 20\n",
    "z = x + y\n",
    "print(\"Addition = \",z)"
   ]
  },
  {
   "cell_type": "markdown",
   "id": "b38affb0-44b4-469a-be7d-841c7486e46b",
   "metadata": {},
   "source": [
    "## Indentation Error :- \n",
    "                      It is a extra space starting of code\n",
    "\n",
    "\n",
    "## Comments :- \n",
    "                It is a statement that we want to show but don't want to execute it is called comments.\n",
    "### There are two types of comments.\n",
    "### 1. Single line comment (#)\n",
    "     # x = 10\n",
    "\n",
    "### 2. Multi line comments ('''    ''')\n",
    "'''\n",
    "    x = 10\n",
    "    y = 20\n",
    "    z = x + y\n",
    "'''    "
   ]
  },
  {
   "cell_type": "code",
   "execution_count": 7,
   "id": "57f2cfdb-1142-4158-bf17-c37bc5a8dc59",
   "metadata": {},
   "outputs": [],
   "source": [
    "num = 100\n",
    "val = \"Hundered :\""
   ]
  },
  {
   "cell_type": "code",
   "execution_count": 8,
   "id": "73e89113-03d0-413e-bd7c-154f67c950d1",
   "metadata": {},
   "outputs": [
    {
     "name": "stdout",
     "output_type": "stream",
     "text": [
      "Hundered : 100\n"
     ]
    }
   ],
   "source": [
    "print(val , num)"
   ]
  },
  {
   "cell_type": "code",
   "execution_count": 9,
   "id": "644aea8e-c42e-4579-8285-91c8ab5c6b9b",
   "metadata": {},
   "outputs": [],
   "source": [
    "x = 10 \n",
    "y = 20 "
   ]
  },
  {
   "cell_type": "code",
   "execution_count": 10,
   "id": "28602d66-dddf-4d9e-bf8d-ef2d9d36ca65",
   "metadata": {},
   "outputs": [],
   "source": [
    "add = x + y\n",
    "sub = x - y"
   ]
  },
  {
   "cell_type": "code",
   "execution_count": 11,
   "id": "290606e6-0bed-4073-877a-b52fe63c7bd7",
   "metadata": {},
   "outputs": [
    {
     "name": "stdout",
     "output_type": "stream",
     "text": [
      "Addition :-  30\n"
     ]
    }
   ],
   "source": [
    "print(\"Addition :- \",add)"
   ]
  },
  {
   "cell_type": "code",
   "execution_count": 12,
   "id": "9674ce77-ccc8-45f0-82ed-eebd285405b2",
   "metadata": {},
   "outputs": [
    {
     "name": "stdout",
     "output_type": "stream",
     "text": [
      "substraction :- -10\n"
     ]
    }
   ],
   "source": [
    "print(\"substraction :-\",sub)"
   ]
  },
  {
   "cell_type": "code",
   "execution_count": null,
   "id": "bde24494-23ff-46c0-aaff-4e3d87f8ef83",
   "metadata": {},
   "outputs": [],
   "source": []
  }
 ],
 "metadata": {
  "kernelspec": {
   "display_name": "Python 3 (ipykernel)",
   "language": "python",
   "name": "python3"
  },
  "language_info": {
   "codemirror_mode": {
    "name": "ipython",
    "version": 3
   },
   "file_extension": ".py",
   "mimetype": "text/x-python",
   "name": "python",
   "nbconvert_exporter": "python",
   "pygments_lexer": "ipython3",
   "version": "3.11.7"
  }
 },
 "nbformat": 4,
 "nbformat_minor": 5
}
