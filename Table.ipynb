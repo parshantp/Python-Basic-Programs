{
 "cells": [
  {
   "cell_type": "code",
   "execution_count": 1,
   "id": "81fa54c7-0d8b-4db6-8511-c917ee53a9dd",
   "metadata": {},
   "outputs": [
    {
     "name": "stdin",
     "output_type": "stream",
     "text": [
      "What do you want to print :- bhai\n",
      "How many times :- 20\n"
     ]
    },
    {
     "name": "stdout",
     "output_type": "stream",
     "text": [
      "bhai\n",
      "bhai\n",
      "bhai\n",
      "bhai\n",
      "bhai\n",
      "bhai\n",
      "bhai\n",
      "bhai\n",
      "bhai\n",
      "bhai\n",
      "bhai\n",
      "bhai\n",
      "bhai\n",
      "bhai\n",
      "bhai\n",
      "bhai\n",
      "bhai\n",
      "bhai\n",
      "bhai\n",
      "bhai\n"
     ]
    }
   ],
   "source": [
    "# Duplicate printer\n",
    "x = 1\n",
    "z = input(\"What do you want to print :-\")\n",
    "y = int(input(\"How many times :-\"))\n",
    "\n",
    "while x<=y:\n",
    "    print(z)\n",
    "    x+=1"
   ]
  },
  {
   "cell_type": "code",
   "execution_count": 9,
   "id": "3b2bbcbd-fccb-4eab-8510-50f967cab895",
   "metadata": {},
   "outputs": [
    {
     "name": "stdin",
     "output_type": "stream",
     "text": [
      "Enter number :- 2\n"
     ]
    },
    {
     "name": "stdout",
     "output_type": "stream",
     "text": [
      "2 X 1 = 2\n",
      "2 X 2 = 4\n",
      "2 X 3 = 6\n",
      "2 X 4 = 8\n",
      "2 X 5 = 10\n",
      "2 X 6 = 12\n",
      "2 X 7 = 14\n",
      "2 X 8 = 16\n",
      "2 X 9 = 18\n",
      "2 X 10 = 20\n"
     ]
    }
   ],
   "source": [
    "# Table\n",
    "\n",
    "x = int(input(\"Enter number :-\"))\n",
    "y = 1\n",
    "\n",
    "while y<=10:\n",
    "    print(x, \"X\" ,y ,\"=\" ,x*y)\n",
    "    y+=1"
   ]
  },
  {
   "cell_type": "code",
   "execution_count": 11,
   "id": "ba38eddc-c0f5-4fe8-961e-11462a9ebecd",
   "metadata": {},
   "outputs": [
    {
     "name": "stdout",
     "output_type": "stream",
     "text": [
      "2 X 1 = 2\n",
      "2 X 2 = 4\n",
      "2 X 3 = 6\n",
      "2 X 4 = 8\n",
      "2 X 5 = 10\n",
      "2 X 6 = 12\n",
      "2 X 7 = 14\n",
      "2 X 8 = 16\n",
      "2 X 9 = 18\n",
      "2 X 10 = 20\n"
     ]
    }
   ],
   "source": [
    "x = 2\n",
    "y = 1\n",
    "\n",
    "while y<=10:\n",
    "    a = x*y\n",
    "    print(x, \"X\",y,\"=\",a)\n",
    "    y = y+1"
   ]
  },
  {
   "cell_type": "code",
   "execution_count": null,
   "id": "860e36e8-9c83-4d14-bb87-9808449c54d6",
   "metadata": {},
   "outputs": [],
   "source": []
  }
 ],
 "metadata": {
  "kernelspec": {
   "display_name": "Python 3 (ipykernel)",
   "language": "python",
   "name": "python3"
  },
  "language_info": {
   "codemirror_mode": {
    "name": "ipython",
    "version": 3
   },
   "file_extension": ".py",
   "mimetype": "text/x-python",
   "name": "python",
   "nbconvert_exporter": "python",
   "pygments_lexer": "ipython3",
   "version": "3.11.7"
  }
 },
 "nbformat": 4,
 "nbformat_minor": 5
}
