{
 "cells": [
  {
   "cell_type": "markdown",
   "id": "0e074428-98f9-4ea5-bf4b-56152ec34332",
   "metadata": {},
   "source": [
    "# Condition Formating:-   \n",
    "                it is used to divide the data according to condition and print the statement if the condition is True or False."
   ]
  },
  {
   "cell_type": "markdown",
   "id": "f48df67e-ba3f-4aa1-9cc3-c829d80425ed",
   "metadata": {},
   "source": [
    "### Q1. Print yes if no. graeter than 5 else print NO"
   ]
  },
  {
   "cell_type": "code",
   "execution_count": 5,
   "id": "e6108881-a3d0-472e-8101-21fe8635ee35",
   "metadata": {},
   "outputs": [
    {
     "name": "stdout",
     "output_type": "stream",
     "text": [
      "yes\n"
     ]
    }
   ],
   "source": [
    "x = 10\n",
    "\n",
    "if x > 5:\n",
    "    print(\"yes\")\n",
    "else:\n",
    "    print(\"no\")"
   ]
  },
  {
   "cell_type": "markdown",
   "id": "546247e0-f2be-49de-9f5e-c5f5f4e5c68a",
   "metadata": {},
   "source": [
    "### Q2. Write a Python program to check the age who is eligible for vote or not ?"
   ]
  },
  {
   "cell_type": "code",
   "execution_count": 6,
   "id": "0f9fb66f-a55f-41a2-bdc2-35f0c726403d",
   "metadata": {},
   "outputs": [
    {
     "name": "stdout",
     "output_type": "stream",
     "text": [
      "eligible for vote\n"
     ]
    }
   ],
   "source": [
    "x = 26\n",
    "\n",
    "if x > 18:\n",
    "    print(\"eligible for vote\")\n",
    "else:\n",
    "    print(\"not eligible\")"
   ]
  },
  {
   "cell_type": "markdown",
   "id": "2b85aa8c-718d-4202-8092-3829397a097a",
   "metadata": {},
   "source": [
    "### Q3. write a python program to check the no. is odd or even?"
   ]
  },
  {
   "cell_type": "code",
   "execution_count": 3,
   "id": "6698270f-77d4-4f28-b3bf-d4e6d21e7ed7",
   "metadata": {},
   "outputs": [
    {
     "name": "stdout",
     "output_type": "stream",
     "text": [
      "Even\n"
     ]
    }
   ],
   "source": [
    "x = 56\n",
    "\n",
    "if x % 2 == 0:\n",
    "    print(\"Even\")\n",
    "else:\n",
    "    print(\"odd\")"
   ]
  },
  {
   "cell_type": "code",
   "execution_count": null,
   "id": "3d151d76-9aee-42a9-8dab-6e4f296efaae",
   "metadata": {},
   "outputs": [],
   "source": []
  },
  {
   "cell_type": "code",
   "execution_count": 4,
   "id": "82ffa776-f554-4142-96e1-af0af0248bb7",
   "metadata": {},
   "outputs": [
    {
     "name": "stdout",
     "output_type": "stream",
     "text": [
      "yes\n"
     ]
    }
   ],
   "source": [
    "# write a python program to check the no. divisible by 5 or not?\n",
    "\n",
    "x = 15\n",
    "\n",
    "if x % 5 ==0:\n",
    "    print(\"yes\")\n",
    "else:\n",
    "    print(\"no \")"
   ]
  },
  {
   "cell_type": "code",
   "execution_count": null,
   "id": "65340ea9-3da2-4b9b-98aa-f4fa901f396b",
   "metadata": {},
   "outputs": [],
   "source": []
  }
 ],
 "metadata": {
  "kernelspec": {
   "display_name": "Python 3 (ipykernel)",
   "language": "python",
   "name": "python3"
  },
  "language_info": {
   "codemirror_mode": {
    "name": "ipython",
    "version": 3
   },
   "file_extension": ".py",
   "mimetype": "text/x-python",
   "name": "python",
   "nbconvert_exporter": "python",
   "pygments_lexer": "ipython3",
   "version": "3.11.7"
  }
 },
 "nbformat": 4,
 "nbformat_minor": 5
}
