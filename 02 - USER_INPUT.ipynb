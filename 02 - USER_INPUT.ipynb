{
 "cells": [
  {
   "cell_type": "markdown",
   "id": "e9b0b16d-0bca-4e9f-a5be-df261daca1fe",
   "metadata": {},
   "source": [
    "# User input :- "
   ]
  },
  {
   "cell_type": "code",
   "execution_count": null,
   "id": "952fa804-a214-4bed-b9e0-38637eb07f94",
   "metadata": {},
   "outputs": [],
   "source": []
  }
 ],
 "metadata": {
  "kernelspec": {
   "display_name": "Python 3 (ipykernel)",
   "language": "python",
   "name": "python3"
  },
  "language_info": {
   "codemirror_mode": {
    "name": "ipython",
    "version": 3
   },
   "file_extension": ".py",
   "mimetype": "text/x-python",
   "name": "python",
   "nbconvert_exporter": "python",
   "pygments_lexer": "ipython3",
   "version": "3.11.7"
  }
 },
 "nbformat": 4,
 "nbformat_minor": 5
}
