{
 "cells": [
  {
   "cell_type": "code",
   "execution_count": null,
   "id": "4a1df720-33c5-4974-9c3a-cf6529035f30",
   "metadata": {},
   "outputs": [],
   "source": []
  },
  {
   "cell_type": "markdown",
   "id": "5c63ba47-c94f-41ab-8312-490ec3628bcd",
   "metadata": {},
   "source": [
    "# Operators:- Operators are used to perform the calculation on operants.\n",
    "\n",
    "### There are Seven types of operators\n",
    "\n",
    "1. Arithmetic operator\n",
    "2. Assignment operator\n",
    "3. Comparison\n",
    "4. Logical\n",
    "5. Membership\n",
    "6. Identity\n",
    "7. Bitwise"
   ]
  },
  {
   "cell_type": "markdown",
   "id": "0e8ae02a-5a5f-49b4-aad3-5388e2a288c2",
   "metadata": {},
   "source": [
    "# 1. Arithmetic Operator\n",
    "\n",
    "1. Addition       (+)\n",
    "2. Subtraction    (-)\n",
    "3. Multiplication (*)\n",
    "4. Division       (/)\n",
    "5. Modules        (%)   It is used to show the remainder of two values\n",
    "6. Exponentiation (**)  It is used to add the power of the first number\n",
    "7. Floor Division (//)  It shows the value before the decimal"
   ]
  },
  {
   "cell_type": "code",
   "execution_count": 2,
   "id": "fef35b5e-aff7-4f3d-86ad-4404e2f5e6f2",
   "metadata": {},
   "outputs": [],
   "source": [
    "x = 45\n",
    "y = 35"
   ]
  },
  {
   "cell_type": "code",
   "execution_count": 3,
   "id": "c6c9e2b4-3b42-475a-9800-85c64adaa6d0",
   "metadata": {},
   "outputs": [
    {
     "name": "stdout",
     "output_type": "stream",
     "text": [
      "Addition :- 80\n",
      "Substraction :- 10\n",
      "multiplicaztion:- 1575\n",
      "division:- 1.2857142857142858\n"
     ]
    }
   ],
   "source": [
    "print(\"Addition :-\",x+y)\n",
    "print(\"Substraction :-\",x-y)\n",
    "print(\"multiplicaztion:-\",x*y)\n",
    "print(\"division:-\",x/y)"
   ]
  },
  {
   "cell_type": "code",
   "execution_count": null,
   "id": "e3cf12d3-10f1-4df5-8f3f-a94aa845b0d1",
   "metadata": {},
   "outputs": [],
   "source": []
  }
 ],
 "metadata": {
  "kernelspec": {
   "display_name": "Python 3 (ipykernel)",
   "language": "python",
   "name": "python3"
  },
  "language_info": {
   "codemirror_mode": {
    "name": "ipython",
    "version": 3
   },
   "file_extension": ".py",
   "mimetype": "text/x-python",
   "name": "python",
   "nbconvert_exporter": "python",
   "pygments_lexer": "ipython3",
   "version": "3.11.7"
  }
 },
 "nbformat": 4,
 "nbformat_minor": 5
}
