{
 "cells": [
  {
   "cell_type": "code",
   "execution_count": 1,
   "id": "13987cc0-9d5b-45e4-869d-8c4d64b5d3b6",
   "metadata": {},
   "outputs": [
    {
     "name": "stdout",
     "output_type": "stream",
     "text": [
      "hello world\n"
     ]
    }
   ],
   "source": [
    "print(\"hello world\")"
   ]
  },
  {
   "cell_type": "code",
   "execution_count": 2,
   "id": "29ae82a6-fa4a-489a-a445-9a957837ac99",
   "metadata": {},
   "outputs": [
    {
     "data": {
      "text/plain": [
       "\"\\n1. It always starts with the alphabet.\\n2. Do not start with the number.\\n3. You can't enter any special character in the variable.\\n4. Variable can be alphanumerical.\\n5. In variable we can use underscore ( _ ).\\n6. Variable is case-sensitive.\\n\""
      ]
     },
     "execution_count": 2,
     "metadata": {},
     "output_type": "execute_result"
    }
   ],
   "source": [
    "# Variable = It is used to store values\n",
    "#             Variable is a container where we can store values\n",
    "#              Variable is the sort name of any values\n",
    "\n",
    "\n",
    "\n",
    "# Types of Variable \n",
    "# There are two types of variable\n",
    "\n",
    "# 1. Local variable (or) Single variable\n",
    "x = 10\n",
    "y = 20\n",
    "\n",
    "# 2. Global variable or multiple variable\n",
    "# x,y,z = 10,20,30\n",
    "\n",
    "# Limitation of variable:-\n",
    "'''\n",
    "1. It always starts with the alphabet.\n",
    "2. Do not start with the number.\n",
    "3. You can't enter any special character in the variable.\n",
    "4. Variable can be alphanumerical.\n",
    "5. In variable we can use underscore ( _ ).\n",
    "6. Variable is case-sensitive.\n",
    "'''"
   ]
  },
  {
   "cell_type": "code",
   "execution_count": 3,
   "id": "090834ad-f36d-4ce0-91f7-f342325e5d7c",
   "metadata": {},
   "outputs": [],
   "source": [
    "x = 1000\n",
    "y = 500\n",
    "z = x+y"
   ]
  },
  {
   "cell_type": "code",
   "execution_count": null,
   "id": "ed533694-1557-4bb0-a24c-906d393569b5",
   "metadata": {},
   "outputs": [],
   "source": []
  }
 ],
 "metadata": {
  "kernelspec": {
   "display_name": "Python 3 (ipykernel)",
   "language": "python",
   "name": "python3"
  },
  "language_info": {
   "codemirror_mode": {
    "name": "ipython",
    "version": 3
   },
   "file_extension": ".py",
   "mimetype": "text/x-python",
   "name": "python",
   "nbconvert_exporter": "python",
   "pygments_lexer": "ipython3",
   "version": "3.11.7"
  }
 },
 "nbformat": 4,
 "nbformat_minor": 5
}
