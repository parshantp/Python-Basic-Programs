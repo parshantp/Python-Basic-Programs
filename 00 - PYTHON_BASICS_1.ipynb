{
 "cells": [
  {
   "cell_type": "code",
   "execution_count": 8,
   "id": "13987cc0-9d5b-45e4-869d-8c4d64b5d3b6",
   "metadata": {},
   "outputs": [
    {
     "name": "stdout",
     "output_type": "stream",
     "text": [
      "hello world\n"
     ]
    }
   ],
   "source": [
    "print(\"hello world\")"
   ]
  },
  {
   "cell_type": "code",
   "execution_count": null,
   "id": "29ae82a6-fa4a-489a-a445-9a957837ac99",
   "metadata": {},
   "outputs": [],
   "source": []
  },
  {
   "cell_type": "code",
   "execution_count": 3,
   "id": "090834ad-f36d-4ce0-91f7-f342325e5d7c",
   "metadata": {},
   "outputs": [],
   "source": [
    "x = 1000\n",
    "y = 500\n",
    "z = x+y"
   ]
  },
  {
   "cell_type": "code",
   "execution_count": 4,
   "id": "ed533694-1557-4bb0-a24c-906d393569b5",
   "metadata": {},
   "outputs": [
    {
     "name": "stdout",
     "output_type": "stream",
     "text": [
      "1500\n"
     ]
    }
   ],
   "source": [
    "print(z)     "
   ]
  },
  {
   "cell_type": "code",
   "execution_count": 5,
   "id": "aa0f2398-245a-44d9-8e85-ab9bdcbce46f",
   "metadata": {},
   "outputs": [],
   "source": [
    "x = \"data Science\""
   ]
  },
  {
   "cell_type": "code",
   "execution_count": 6,
   "id": "2cd46be4-ef58-4fee-876d-a07e517421e9",
   "metadata": {},
   "outputs": [
    {
     "name": "stdout",
     "output_type": "stream",
     "text": [
      "data Science\n"
     ]
    }
   ],
   "source": [
    "print(x)"
   ]
  },
  {
   "cell_type": "code",
   "execution_count": 7,
   "id": "c18c3ca3-3118-4a73-b1d6-8ec1b266e930",
   "metadata": {},
   "outputs": [
    {
     "name": "stdout",
     "output_type": "stream",
     "text": [
      "Addition =  30\n"
     ]
    }
   ],
   "source": [
    "x = 10\n",
    "y = 20\n",
    "z = x + y\n",
    "print(\"Addition = \",z)"
   ]
  },
  {
   "cell_type": "code",
   "execution_count": null,
   "id": "9794215a-a36a-4a79-972f-1ac33991c1f2",
   "metadata": {},
   "outputs": [],
   "source": []
  }
 ],
 "metadata": {
  "kernelspec": {
   "display_name": "Python 3 (ipykernel)",
   "language": "python",
   "name": "python3"
  },
  "language_info": {
   "codemirror_mode": {
    "name": "ipython",
    "version": 3
   },
   "file_extension": ".py",
   "mimetype": "text/x-python",
   "name": "python",
   "nbconvert_exporter": "python",
   "pygments_lexer": "ipython3",
   "version": "3.11.7"
  }
 },
 "nbformat": 4,
 "nbformat_minor": 5
}
