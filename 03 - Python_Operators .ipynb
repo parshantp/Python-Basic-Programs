{
 "cells": [
  {
   "cell_type": "code",
   "execution_count": null,
   "id": "4a1df720-33c5-4974-9c3a-cf6529035f30",
   "metadata": {},
   "outputs": [],
   "source": []
  },
  {
   "cell_type": "markdown",
   "id": "5c63ba47-c94f-41ab-8312-490ec3628bcd",
   "metadata": {},
   "source": [
    "# Operators:- Operators are used to perform the calculation on operants.\n",
    "\n",
    "### There are Seven types of operators\n",
    "\n",
    "1. Arithmetic operator\n",
    "2. Assignment operator\n",
    "3. Comparison\n",
    "4. Logical\n",
    "5. Membership\n",
    "6. Identity\n",
    "7. Bitwise"
   ]
  },
  {
   "cell_type": "markdown",
   "id": "0e8ae02a-5a5f-49b4-aad3-5388e2a288c2",
   "metadata": {},
   "source": [
    "# 1. Arithmetic Operator\n",
    "\n",
    "1. Addition       (+)\n",
    "2. Subtraction    (-)\n",
    "3. Multiplication (*)\n",
    "4. Division       (/)\n",
    "5. Modules        (%)   It is used to show the remainder of two values\n",
    "6. Exponentiation (**)  It is used to add the power of the first number\n",
    "7. Floor Division (//)  It shows the value before the decimal"
   ]
  },
  {
   "cell_type": "code",
   "execution_count": 2,
   "id": "fef35b5e-aff7-4f3d-86ad-4404e2f5e6f2",
   "metadata": {},
   "outputs": [],
   "source": [
    "x = 45\n",
    "y = 35"
   ]
  },
  {
   "cell_type": "code",
   "execution_count": 3,
   "id": "c6c9e2b4-3b42-475a-9800-85c64adaa6d0",
   "metadata": {},
   "outputs": [
    {
     "name": "stdout",
     "output_type": "stream",
     "text": [
      "Addition :- 80\n",
      "Substraction :- 10\n",
      "multiplicaztion:- 1575\n",
      "division:- 1.2857142857142858\n"
     ]
    }
   ],
   "source": [
    "print(\"Addition :-\",x+y)\n",
    "print(\"Substraction :-\",x-y)\n",
    "print(\"multiplicaztion:-\",x*y)\n",
    "print(\"division:-\",x/y)"
   ]
  },
  {
   "cell_type": "markdown",
   "id": "3ac985df-304b-404d-85b0-1e8d62f7c8e6",
   "metadata": {},
   "source": [
    "### Modules :- it show the reminder"
   ]
  },
  {
   "cell_type": "code",
   "execution_count": 1,
   "id": "6c8c681a-20a2-4b90-8106-6ecb70d06e14",
   "metadata": {},
   "outputs": [
    {
     "name": "stdout",
     "output_type": "stream",
     "text": [
      "Reminder :- 5\n"
     ]
    }
   ],
   "source": [
    "x = 45\n",
    "y = 20\n",
    "\n",
    "print(\"Reminder :-\",x%y)"
   ]
  },
  {
   "cell_type": "markdown",
   "id": "597f15c0-da2f-47a0-a81c-b87998e4ab66",
   "metadata": {},
   "source": [
    "### Floor division :- it shows the value before the decimal"
   ]
  },
  {
   "cell_type": "code",
   "execution_count": 2,
   "id": "328ee6ef-950c-4d10-952c-bfcea37c8a2c",
   "metadata": {},
   "outputs": [
    {
     "name": "stdout",
     "output_type": "stream",
     "text": [
      "Division :- 2.4\n",
      "Floor Division :- 2\n"
     ]
    }
   ],
   "source": [
    "x = 12\n",
    "y = 5\n",
    "\n",
    "print(\"Division :-\",x/y)\n",
    "print(\"Floor Division :-\",x//y)"
   ]
  },
  {
   "cell_type": "markdown",
   "id": "9cb99673-bc50-452b-80af-b7c2c2e646ca",
   "metadata": {},
   "source": [
    "### Exponentation :- Add power"
   ]
  },
  {
   "cell_type": "code",
   "execution_count": 3,
   "id": "d7034926-0978-4aae-81e8-4bc7f5f51155",
   "metadata": {},
   "outputs": [
    {
     "name": "stdout",
     "output_type": "stream",
     "text": [
      "Multiplication :- 20\n",
      "Exponentation :- 100\n"
     ]
    }
   ],
   "source": [
    "x = 10\n",
    "y = 2\n",
    "\n",
    "print(\"Multiplication :-\",x*y)\n",
    "print(\"Exponentation :-\",x**y)"
   ]
  },
  {
   "cell_type": "markdown",
   "id": "6ac0437a-16ff-43d4-86ac-00888ff42291",
   "metadata": {},
   "source": [
    "###  Q1. Find the area of circle whose radius is 14."
   ]
  },
  {
   "cell_type": "code",
   "execution_count": 4,
   "id": "9e0bcdec-db26-4b56-a468-489f3e325547",
   "metadata": {},
   "outputs": [
    {
     "name": "stdout",
     "output_type": "stream",
     "text": [
      "The area of the circle is :-  615.44\n"
     ]
    }
   ],
   "source": [
    "pie = 3.14\n",
    "r = 14\n",
    "area = pie*r*r\n",
    "print(\"The area of the circle is :- \",area)"
   ]
  },
  {
   "cell_type": "code",
   "execution_count": 6,
   "id": "d24487e2-7c63-4d67-88c2-0762357f291a",
   "metadata": {},
   "outputs": [
    {
     "name": "stdout",
     "output_type": "stream",
     "text": [
      "The area of the circle is :-  615.44\n"
     ]
    }
   ],
   "source": [
    "pie = 3.14\n",
    "r = 14\n",
    "area = pie*r**2\n",
    "print(\"The area of the circle is :- \",area)"
   ]
  },
  {
   "cell_type": "markdown",
   "id": "b5555ac9-ad49-40e7-ae10-31b4deab1c11",
   "metadata": {},
   "source": [
    "### Q2. show the values of the simplification "
   ]
  },
  {
   "cell_type": "code",
   "execution_count": 7,
   "id": "c80bebb3-a60a-4732-ae71-c72176edcbb2",
   "metadata": {},
   "outputs": [
    {
     "name": "stdout",
     "output_type": "stream",
     "text": [
      "675\n",
      "11664\n",
      "118\n"
     ]
    }
   ],
   "source": [
    "x = 45\n",
    "y = 63\n",
    "z = 10\n",
    "\n",
    "print(x+y*z)\n",
    "print((x+y)**2)\n",
    "print(x+y+z)"
   ]
  },
  {
   "cell_type": "markdown",
   "id": "3472ed7a-1b7b-42ec-811e-8b0d46abbdeb",
   "metadata": {},
   "source": [
    "# Assignment Operators:- it is used to assign the values in the variable.\n",
    "\n",
    "1. \"=\" =  assign\n",
    "2. \"+=\" =  Addition equal\n",
    "3. \"-=\" =  Subtraction equal\n",
    "4. \"*=\" =  multiplication equal\n",
    "5. \"/=\" =  Division equal\n",
    "6. \"%=\" =  Module equal\n",
    "7. \"//=\" =  Floor equal\n",
    "8. \"**=\" =  Exponentiation equal"
   ]
  },
  {
   "cell_type": "code",
   "execution_count": 1,
   "id": "c314d5b3-30f8-47a8-a2d7-14e0e6720cde",
   "metadata": {},
   "outputs": [
    {
     "name": "stdout",
     "output_type": "stream",
     "text": [
      "15\n",
      "10\n"
     ]
    }
   ],
   "source": [
    "x = 10\n",
    "\n",
    "x+=5\n",
    "print(x)\n",
    "x-=5\n",
    "print(x)"
   ]
  },
  {
   "cell_type": "markdown",
   "id": "51d666ae-05ae-45d6-b07f-5f1f9ab88b86",
   "metadata": {},
   "source": [
    "# Comparison operators \n",
    "\n",
    "1. Equal to              ==\n",
    "2. not equal to          !=\n",
    "3. Greater than          >\n",
    "4. less than             <\n",
    "5. Greater than equal to >=\n",
    "6. less than equal to    <="
   ]
  },
  {
   "cell_type": "markdown",
   "id": "4c4caf43-0fb3-4ca1-9486-037e008fca8a",
   "metadata": {},
   "source": [
    "### Q. Write a Python program if the given number between 50 and 70 than print yes else print no"
   ]
  },
  {
   "cell_type": "code",
   "execution_count": 1,
   "id": "dd74dec8-eed6-453a-b1a3-1865fddba635",
   "metadata": {},
   "outputs": [
    {
     "name": "stdin",
     "output_type": "stream",
     "text": [
      "enter the value 5\n"
     ]
    },
    {
     "name": "stdout",
     "output_type": "stream",
     "text": [
      "no\n"
     ]
    }
   ],
   "source": [
    "x=int(input(\"enter the value\"))\n",
    "if x>=50 and x<=70:\n",
    "    print(\"yes\")\n",
    "else:\n",
    "    print(\"no\")\n",
    "    "
   ]
  },
  {
   "cell_type": "markdown",
   "id": "b29ec4d4-021a-4aaa-a39f-d9f369ab654c",
   "metadata": {},
   "source": [
    "### Q. Write a Python program if the given n"
   ]
  },
  {
   "cell_type": "code",
   "execution_count": 2,
   "id": "7eb5b889-a481-494f-bb6e-e92a64c1b93c",
   "metadata": {},
   "outputs": [
    {
     "name": "stdin",
     "output_type": "stream",
     "text": [
      "enter the value 55\n"
     ]
    },
    {
     "name": "stdout",
     "output_type": "stream",
     "text": [
      "Bad\n"
     ]
    }
   ],
   "source": [
    "x = int(input(\"enter the value\"))\n",
    "if x%2==0 and x>=50:\n",
    "    print(\"Good\")\n",
    "else:\n",
    "    print(\"Bad\")"
   ]
  },
  {
   "cell_type": "code",
   "execution_count": null,
   "id": "bb5c3ced-d9ee-4308-962e-ed6d10278e1b",
   "metadata": {},
   "outputs": [],
   "source": []
  }
 ],
 "metadata": {
  "kernelspec": {
   "display_name": "Python 3 (ipykernel)",
   "language": "python",
   "name": "python3"
  },
  "language_info": {
   "codemirror_mode": {
    "name": "ipython",
    "version": 3
   },
   "file_extension": ".py",
   "mimetype": "text/x-python",
   "name": "python",
   "nbconvert_exporter": "python",
   "pygments_lexer": "ipython3",
   "version": "3.11.7"
  }
 },
 "nbformat": 4,
 "nbformat_minor": 5
}
